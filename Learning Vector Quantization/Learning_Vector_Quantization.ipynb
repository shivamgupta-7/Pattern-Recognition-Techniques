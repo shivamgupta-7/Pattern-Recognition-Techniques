{
  "nbformat": 4,
  "nbformat_minor": 0,
  "metadata": {
    "colab": {
      "provenance": []
    },
    "kernelspec": {
      "name": "python3",
      "display_name": "Python 3"
    }
  },
  "cells": [
    {
      "cell_type": "markdown",
      "metadata": {
        "id": "dFhVAR8QL8lZ"
      },
      "source": [
        "Course Title: PATTERN RECOGNITION TECHNIQUES\n",
        "\n",
        "PRT- Ex-5 : Learning Vector Quantization\n",
        "\n",
        "Code \n",
        "\n",
        "Shivam Gupta\n",
        "\n"
      ]
    },
    {
      "cell_type": "code",
      "metadata": {
        "id": "encSwKTZzSyl"
      },
      "source": [
        "import pandas as pd\n",
        "import seaborn as sns\n",
        "import matplotlib\n",
        "import matplotlib.pyplot as plt\n",
        "import math\n",
        "import numpy as np\n",
        "from sklearn.model_selection import train_test_split\n",
        "from sklearn import metrics\n",
        "from sklearn.metrics import precision_score, recall_score, accuracy_score, f1_score\n",
        "from sklearn.neighbors import KNeighborsClassifier #K-NN Classifier for comparison\n",
        "from sklearn.ensemble import RandomForestClassifier #Random Forest Classifier for comparison\n",
        "from sklearn.model_selection import KFold"
      ],
      "execution_count": null,
      "outputs": []
    },
    {
      "cell_type": "code",
      "metadata": {
        "colab": {
          "base_uri": "https://localhost:8080/",
          "height": 203
        },
        "id": "WMsc1SHkzVIX",
        "outputId": "cdbbda87-3cad-46f2-9711-556dfc76796d"
      },
      "source": [
        "df = pd.read_csv(\"Iris.csv\")\n",
        "df.head()"
      ],
      "execution_count": null,
      "outputs": [
        {
          "output_type": "execute_result",
          "data": {
            "text/html": [
              "<div>\n",
              "<style scoped>\n",
              "    .dataframe tbody tr th:only-of-type {\n",
              "        vertical-align: middle;\n",
              "    }\n",
              "\n",
              "    .dataframe tbody tr th {\n",
              "        vertical-align: top;\n",
              "    }\n",
              "\n",
              "    .dataframe thead th {\n",
              "        text-align: right;\n",
              "    }\n",
              "</style>\n",
              "<table border=\"1\" class=\"dataframe\">\n",
              "  <thead>\n",
              "    <tr style=\"text-align: right;\">\n",
              "      <th></th>\n",
              "      <th>Id</th>\n",
              "      <th>SepalLengthCm</th>\n",
              "      <th>SepalWidthCm</th>\n",
              "      <th>PetalLengthCm</th>\n",
              "      <th>PetalWidthCm</th>\n",
              "      <th>Species</th>\n",
              "    </tr>\n",
              "  </thead>\n",
              "  <tbody>\n",
              "    <tr>\n",
              "      <th>0</th>\n",
              "      <td>1</td>\n",
              "      <td>5.1</td>\n",
              "      <td>3.5</td>\n",
              "      <td>1.4</td>\n",
              "      <td>0.2</td>\n",
              "      <td>Iris-setosa</td>\n",
              "    </tr>\n",
              "    <tr>\n",
              "      <th>1</th>\n",
              "      <td>2</td>\n",
              "      <td>4.9</td>\n",
              "      <td>3.0</td>\n",
              "      <td>1.4</td>\n",
              "      <td>0.2</td>\n",
              "      <td>Iris-setosa</td>\n",
              "    </tr>\n",
              "    <tr>\n",
              "      <th>2</th>\n",
              "      <td>3</td>\n",
              "      <td>4.7</td>\n",
              "      <td>3.2</td>\n",
              "      <td>1.3</td>\n",
              "      <td>0.2</td>\n",
              "      <td>Iris-setosa</td>\n",
              "    </tr>\n",
              "    <tr>\n",
              "      <th>3</th>\n",
              "      <td>4</td>\n",
              "      <td>4.6</td>\n",
              "      <td>3.1</td>\n",
              "      <td>1.5</td>\n",
              "      <td>0.2</td>\n",
              "      <td>Iris-setosa</td>\n",
              "    </tr>\n",
              "    <tr>\n",
              "      <th>4</th>\n",
              "      <td>5</td>\n",
              "      <td>5.0</td>\n",
              "      <td>3.6</td>\n",
              "      <td>1.4</td>\n",
              "      <td>0.2</td>\n",
              "      <td>Iris-setosa</td>\n",
              "    </tr>\n",
              "  </tbody>\n",
              "</table>\n",
              "</div>"
            ],
            "text/plain": [
              "   Id  SepalLengthCm  SepalWidthCm  PetalLengthCm  PetalWidthCm      Species\n",
              "0   1            5.1           3.5            1.4           0.2  Iris-setosa\n",
              "1   2            4.9           3.0            1.4           0.2  Iris-setosa\n",
              "2   3            4.7           3.2            1.3           0.2  Iris-setosa\n",
              "3   4            4.6           3.1            1.5           0.2  Iris-setosa\n",
              "4   5            5.0           3.6            1.4           0.2  Iris-setosa"
            ]
          },
          "metadata": {},
          "execution_count": 2
        }
      ]
    },
    {
      "cell_type": "code",
      "metadata": {
        "colab": {
          "base_uri": "https://localhost:8080/",
          "height": 203
        },
        "id": "A5Nx0hHczsHY",
        "outputId": "7dbe9a4e-ecf6-419a-d879-e74eaae59fef"
      },
      "source": [
        "df = df.drop(\"Id\", axis=1)\n",
        "df.head()"
      ],
      "execution_count": null,
      "outputs": [
        {
          "output_type": "execute_result",
          "data": {
            "text/html": [
              "<div>\n",
              "<style scoped>\n",
              "    .dataframe tbody tr th:only-of-type {\n",
              "        vertical-align: middle;\n",
              "    }\n",
              "\n",
              "    .dataframe tbody tr th {\n",
              "        vertical-align: top;\n",
              "    }\n",
              "\n",
              "    .dataframe thead th {\n",
              "        text-align: right;\n",
              "    }\n",
              "</style>\n",
              "<table border=\"1\" class=\"dataframe\">\n",
              "  <thead>\n",
              "    <tr style=\"text-align: right;\">\n",
              "      <th></th>\n",
              "      <th>SepalLengthCm</th>\n",
              "      <th>SepalWidthCm</th>\n",
              "      <th>PetalLengthCm</th>\n",
              "      <th>PetalWidthCm</th>\n",
              "      <th>Species</th>\n",
              "    </tr>\n",
              "  </thead>\n",
              "  <tbody>\n",
              "    <tr>\n",
              "      <th>0</th>\n",
              "      <td>5.1</td>\n",
              "      <td>3.5</td>\n",
              "      <td>1.4</td>\n",
              "      <td>0.2</td>\n",
              "      <td>Iris-setosa</td>\n",
              "    </tr>\n",
              "    <tr>\n",
              "      <th>1</th>\n",
              "      <td>4.9</td>\n",
              "      <td>3.0</td>\n",
              "      <td>1.4</td>\n",
              "      <td>0.2</td>\n",
              "      <td>Iris-setosa</td>\n",
              "    </tr>\n",
              "    <tr>\n",
              "      <th>2</th>\n",
              "      <td>4.7</td>\n",
              "      <td>3.2</td>\n",
              "      <td>1.3</td>\n",
              "      <td>0.2</td>\n",
              "      <td>Iris-setosa</td>\n",
              "    </tr>\n",
              "    <tr>\n",
              "      <th>3</th>\n",
              "      <td>4.6</td>\n",
              "      <td>3.1</td>\n",
              "      <td>1.5</td>\n",
              "      <td>0.2</td>\n",
              "      <td>Iris-setosa</td>\n",
              "    </tr>\n",
              "    <tr>\n",
              "      <th>4</th>\n",
              "      <td>5.0</td>\n",
              "      <td>3.6</td>\n",
              "      <td>1.4</td>\n",
              "      <td>0.2</td>\n",
              "      <td>Iris-setosa</td>\n",
              "    </tr>\n",
              "  </tbody>\n",
              "</table>\n",
              "</div>"
            ],
            "text/plain": [
              "   SepalLengthCm  SepalWidthCm  PetalLengthCm  PetalWidthCm      Species\n",
              "0            5.1           3.5            1.4           0.2  Iris-setosa\n",
              "1            4.9           3.0            1.4           0.2  Iris-setosa\n",
              "2            4.7           3.2            1.3           0.2  Iris-setosa\n",
              "3            4.6           3.1            1.5           0.2  Iris-setosa\n",
              "4            5.0           3.6            1.4           0.2  Iris-setosa"
            ]
          },
          "metadata": {},
          "execution_count": 3
        }
      ]
    },
    {
      "cell_type": "code",
      "metadata": {
        "colab": {
          "base_uri": "https://localhost:8080/",
          "height": 203
        },
        "id": "PeZopxT9zvw-",
        "outputId": "be048a5c-ab2b-45cc-b574-7e31e06471b3"
      },
      "source": [
        "df = df.rename(columns={\"SepalLengthCm\": \"sl\", \"SepalWidthCm\": \"sw\", \"PetalLengthCm\": \"pl\", \n",
        "                   \"PetalWidthCm\":\"pw\", \"Species\":\"y\"})\n",
        "df.head()"
      ],
      "execution_count": null,
      "outputs": [
        {
          "output_type": "execute_result",
          "data": {
            "text/html": [
              "<div>\n",
              "<style scoped>\n",
              "    .dataframe tbody tr th:only-of-type {\n",
              "        vertical-align: middle;\n",
              "    }\n",
              "\n",
              "    .dataframe tbody tr th {\n",
              "        vertical-align: top;\n",
              "    }\n",
              "\n",
              "    .dataframe thead th {\n",
              "        text-align: right;\n",
              "    }\n",
              "</style>\n",
              "<table border=\"1\" class=\"dataframe\">\n",
              "  <thead>\n",
              "    <tr style=\"text-align: right;\">\n",
              "      <th></th>\n",
              "      <th>sl</th>\n",
              "      <th>sw</th>\n",
              "      <th>pl</th>\n",
              "      <th>pw</th>\n",
              "      <th>y</th>\n",
              "    </tr>\n",
              "  </thead>\n",
              "  <tbody>\n",
              "    <tr>\n",
              "      <th>0</th>\n",
              "      <td>5.1</td>\n",
              "      <td>3.5</td>\n",
              "      <td>1.4</td>\n",
              "      <td>0.2</td>\n",
              "      <td>Iris-setosa</td>\n",
              "    </tr>\n",
              "    <tr>\n",
              "      <th>1</th>\n",
              "      <td>4.9</td>\n",
              "      <td>3.0</td>\n",
              "      <td>1.4</td>\n",
              "      <td>0.2</td>\n",
              "      <td>Iris-setosa</td>\n",
              "    </tr>\n",
              "    <tr>\n",
              "      <th>2</th>\n",
              "      <td>4.7</td>\n",
              "      <td>3.2</td>\n",
              "      <td>1.3</td>\n",
              "      <td>0.2</td>\n",
              "      <td>Iris-setosa</td>\n",
              "    </tr>\n",
              "    <tr>\n",
              "      <th>3</th>\n",
              "      <td>4.6</td>\n",
              "      <td>3.1</td>\n",
              "      <td>1.5</td>\n",
              "      <td>0.2</td>\n",
              "      <td>Iris-setosa</td>\n",
              "    </tr>\n",
              "    <tr>\n",
              "      <th>4</th>\n",
              "      <td>5.0</td>\n",
              "      <td>3.6</td>\n",
              "      <td>1.4</td>\n",
              "      <td>0.2</td>\n",
              "      <td>Iris-setosa</td>\n",
              "    </tr>\n",
              "  </tbody>\n",
              "</table>\n",
              "</div>"
            ],
            "text/plain": [
              "    sl   sw   pl   pw            y\n",
              "0  5.1  3.5  1.4  0.2  Iris-setosa\n",
              "1  4.9  3.0  1.4  0.2  Iris-setosa\n",
              "2  4.7  3.2  1.3  0.2  Iris-setosa\n",
              "3  4.6  3.1  1.5  0.2  Iris-setosa\n",
              "4  5.0  3.6  1.4  0.2  Iris-setosa"
            ]
          },
          "metadata": {},
          "execution_count": 4
        }
      ]
    },
    {
      "cell_type": "code",
      "metadata": {
        "colab": {
          "base_uri": "https://localhost:8080/",
          "height": 435
        },
        "id": "MeS81EIjzy-c",
        "outputId": "37dde747-a7e0-42c6-a110-86c0affc5e8c"
      },
      "source": [
        "sns.set(style = \"white\", color_codes = True)\n",
        "print(sns.FacetGrid(df, hue = \"y\", size = 5) \\\n",
        "   .map(plt.scatter, \"sl\", \"sw\") \\\n",
        "   .add_legend())"
      ],
      "execution_count": null,
      "outputs": [
        {
          "output_type": "stream",
          "name": "stderr",
          "text": [
            "/usr/local/lib/python3.7/dist-packages/seaborn/axisgrid.py:337: UserWarning: The `size` parameter has been renamed to `height`; please update your code.\n",
            "  warnings.warn(msg, UserWarning)\n"
          ]
        },
        {
          "output_type": "stream",
          "name": "stdout",
          "text": [
            "<seaborn.axisgrid.FacetGrid object at 0x7ff7b2a36350>\n"
          ]
        },
        {
          "output_type": "display_data",
          "data": {
            "image/png": "[encoded data removed]",
            "text/plain": [
              "<Figure size 474.35x360 with 1 Axes>"
            ]
          },
          "metadata": {}
        }
      ]
    },
    {
      "cell_type": "code",
      "metadata": {
        "colab": {
          "base_uri": "https://localhost:8080/",
          "height": 435
        },
        "id": "WlIMWIUMz2IE",
        "outputId": "a683ad21-d8dd-4b7a-8df0-cca549551d15"
      },
      "source": [
        "print(sns.FacetGrid(df, hue = \"y\", size = 5) \\\n",
        "   .map(plt.scatter, \"pl\", \"pw\") \\\n",
        "   .add_legend())"
      ],
      "execution_count": null,
      "outputs": [
        {
          "output_type": "stream",
          "name": "stderr",
          "text": [
            "/usr/local/lib/python3.7/dist-packages/seaborn/axisgrid.py:337: UserWarning: The `size` parameter has been renamed to `height`; please update your code.\n",
            "  warnings.warn(msg, UserWarning)\n"
          ]
        },
        {
          "output_type": "stream",
          "name": "stdout",
          "text": [
            "<seaborn.axisgrid.FacetGrid object at 0x7ff7aa8bb710>\n"
          ]
        },
        {
          "output_type": "display_data",
          "data": {
            "image/png": "[encoded data removed]",
            "text/plain": [
              "<Figure size 474.35x360 with 1 Axes>"
            ]
          },
          "metadata": {}
        }
      ]
    },
    {
      "cell_type": "code",
      "metadata": {
        "id": "zpBNnZ7jeqpA"
      },
      "source": [
        "def dataRandomSet(data, random=None):\n",
        "    if random != None:\n",
        "        train_x, test_x, train_y, test_y = train_test_split(df.drop([\"y\"], axis=1), \n",
        "                                                                        df[\"y\"], random_state=random, test_size=0.3)\n",
        "        test_y = test_y.reset_index(drop=True)\n",
        "        train_y = train_y.reset_index(drop=True)\n",
        "        train_x = train_x.reset_index(drop=True)\n",
        "        test_x = test_x.reset_index(drop=True)\n",
        "\n",
        "    else:\n",
        "        train_y = df.loc[0:120, \"y\"].reset_index(drop=True)\n",
        "        test_y = df.loc[120: , \"y\"].reset_index(drop=True)\n",
        "        train_x = df.iloc[0:120].drop(\"y\", axis=1).reset_index(drop=True)\n",
        "        test_x = df.iloc[120:].drop(\"y\", axis=1).reset_index(drop=True)\n",
        "    return train_x, train_y, test_x, test_y"
      ],
      "execution_count": null,
      "outputs": []
    },
    {
      "cell_type": "code",
      "metadata": {
        "colab": {
          "base_uri": "https://localhost:8080/",
          "height": 203
        },
        "id": "F-g-lNseexMY",
        "outputId": "f50a3b2d-4a60-4982-bc31-cd768ff5d7eb"
      },
      "source": [
        "train_x, train_y, test_x, test_y = dataRandomSet(df, 42) \n",
        "train_x.head()"
      ],
      "execution_count": null,
      "outputs": [
        {
          "output_type": "execute_result",
          "data": {
            "text/html": [
              "<div>\n",
              "<style scoped>\n",
              "    .dataframe tbody tr th:only-of-type {\n",
              "        vertical-align: middle;\n",
              "    }\n",
              "\n",
              "    .dataframe tbody tr th {\n",
              "        vertical-align: top;\n",
              "    }\n",
              "\n",
              "    .dataframe thead th {\n",
              "        text-align: right;\n",
              "    }\n",
              "</style>\n",
              "<table border=\"1\" class=\"dataframe\">\n",
              "  <thead>\n",
              "    <tr style=\"text-align: right;\">\n",
              "      <th></th>\n",
              "      <th>sl</th>\n",
              "      <th>sw</th>\n",
              "      <th>pl</th>\n",
              "      <th>pw</th>\n",
              "    </tr>\n",
              "  </thead>\n",
              "  <tbody>\n",
              "    <tr>\n",
              "      <th>0</th>\n",
              "      <td>5.5</td>\n",
              "      <td>2.4</td>\n",
              "      <td>3.7</td>\n",
              "      <td>1.0</td>\n",
              "    </tr>\n",
              "    <tr>\n",
              "      <th>1</th>\n",
              "      <td>6.3</td>\n",
              "      <td>2.8</td>\n",
              "      <td>5.1</td>\n",
              "      <td>1.5</td>\n",
              "    </tr>\n",
              "    <tr>\n",
              "      <th>2</th>\n",
              "      <td>6.4</td>\n",
              "      <td>3.1</td>\n",
              "      <td>5.5</td>\n",
              "      <td>1.8</td>\n",
              "    </tr>\n",
              "    <tr>\n",
              "      <th>3</th>\n",
              "      <td>6.6</td>\n",
              "      <td>3.0</td>\n",
              "      <td>4.4</td>\n",
              "      <td>1.4</td>\n",
              "    </tr>\n",
              "    <tr>\n",
              "      <th>4</th>\n",
              "      <td>7.2</td>\n",
              "      <td>3.6</td>\n",
              "      <td>6.1</td>\n",
              "      <td>2.5</td>\n",
              "    </tr>\n",
              "  </tbody>\n",
              "</table>\n",
              "</div>"
            ],
            "text/plain": [
              "    sl   sw   pl   pw\n",
              "0  5.5  2.4  3.7  1.0\n",
              "1  6.3  2.8  5.1  1.5\n",
              "2  6.4  3.1  5.5  1.8\n",
              "3  6.6  3.0  4.4  1.4\n",
              "4  7.2  3.6  6.1  2.5"
            ]
          },
          "metadata": {},
          "execution_count": 8
        }
      ]
    },
    {
      "cell_type": "code",
      "metadata": {
        "id": "0nyX50dFe2Al"
      },
      "source": [
        "def lvq3_train(data, kelas, a, b, max_ep, min_a, e):\n",
        "    X = data.values\n",
        "    y = np.array(kelas)\n",
        "    c, train_idx = np.unique(y, True)\n",
        "    r = c\n",
        "    W = X[train_idx].astype(np.float64)\n",
        "    train = np.array([e for i, e in enumerate(zip(X, y)) if i not in train_idx])\n",
        "    X = train[:, 0]\n",
        "    y = train[:, 1]\n",
        "    ep = 0\n",
        "\n",
        "    while ep < max_ep and a > min_a:\n",
        "        for i, x in enumerate(X):\n",
        "            d = [math.sqrt(sum((w - x) ** 2)) for w in W]\n",
        "            min_1 = np.argmin(d)\n",
        "\n",
        "            min_2 = 0\n",
        "            dc = float(np.amin(d))\n",
        "            dr = 0\n",
        "            min_2 = d.index(sorted(d)[1])\n",
        "            dr = float(d[min_2])\n",
        "            if c[min_1] == y[i] and c[min_1] != r[min_2]:\n",
        "                W[min_1] = W[min_1] + a * (x - W[min_1])\n",
        "\n",
        "            elif c[min_1] != r[min_2] and y[i] == r[min_2]:\n",
        "                if dc != 0 and dr != 0:\n",
        "\n",
        "                    if min((dc/dr),(dr/dc)) > (1-e) / (1+e):\n",
        "                        W[min_1] = W[min_1] - a * (x - W[min_1])\n",
        "                        W[min_2] = W[min_2] + a * (x - W[min_2])\n",
        "            elif c[min_1] == r[min_2] and y[i] == r[min_2]:\n",
        "                W[min_1] = W[min_1] + e * a * (x - W[min_1])\n",
        "                W[min_2] = W[min_2] + e * a * (x- W[min_2])\n",
        "        a = a * b\n",
        "        ep += 1\n",
        "    return W, c"
      ],
      "execution_count": null,
      "outputs": []
    },
    {
      "cell_type": "code",
      "metadata": {
        "id": "wdgwsvPfe9UI"
      },
      "source": [
        "def lvq3_test(x, W):\n",
        "    \n",
        "    W, c = W\n",
        "    d = [math.sqrt(sum((w - x) ** 2)) for w in W]\n",
        "\n",
        "    return c[np.argmin(d)]"
      ],
      "execution_count": null,
      "outputs": []
    },
    {
      "cell_type": "code",
      "metadata": {
        "id": "ms_5Hr3hK-R0"
      },
      "source": [
        "#Evaluation\n",
        "def print_metrics(labels, preds):\n",
        "    print(\"Precision Score: {}\".format(precision_score(labels,\n",
        "           preds, average = 'weighted')))\n",
        "    print(\"Recall Score: {}\".format(recall_score(labels, preds,\n",
        "           average = 'weighted')))\n",
        "    print(\"Accuracy Score: {}\".format(accuracy_score(labels,\n",
        "           preds)))\n",
        "    print(\"F1 Score: {}\".format(f1_score(labels, preds, average =\n",
        "           'weighted')))"
      ],
      "execution_count": null,
      "outputs": []
    },
    {
      "cell_type": "code",
      "metadata": {
        "colab": {
          "base_uri": "https://localhost:8080/"
        },
        "id": "7L7hUNdILBMs",
        "outputId": "d7880e63-e2c4-4d64-8526-be987a29b0f2"
      },
      "source": [
        "W = lvq3_train(train_x, train_y, 0.3, 0.2, 100, 0.001, 0.3)\n",
        "W"
      ],
      "execution_count": null,
      "outputs": [
        {
          "output_type": "stream",
          "name": "stderr",
          "text": [
            "/usr/local/lib/python3.7/dist-packages/ipykernel_launcher.py:7: VisibleDeprecationWarning: Creating an ndarray from ragged nested sequences (which is a list-or-tuple of lists-or-tuples-or ndarrays with different lengths or shapes) is deprecated. If you meant to do this, you must specify 'dtype=object' when creating the ndarray\n",
            "  import sys\n"
          ]
        },
        {
          "output_type": "execute_result",
          "data": {
            "text/plain": [
              "(array([[5.00572316, 3.36417197, 1.45111047, 0.2366129 ],\n",
              "        [5.9977424 , 2.75715401, 4.11720695, 1.21805709],\n",
              "        [6.4877161 , 2.96575637, 5.58796171, 2.05724162]]),\n",
              " array(['Iris-setosa', 'Iris-versicolor', 'Iris-virginica'], dtype=object))"
            ]
          },
          "metadata": {},
          "execution_count": 12
        }
      ]
    },
    {
      "cell_type": "code",
      "metadata": {
        "colab": {
          "base_uri": "https://localhost:8080/"
        },
        "id": "ukCsQn8vLIyR",
        "outputId": "85479782-eba1-44c0-88f4-8cfb3d03ca3b"
      },
      "source": [
        "predicted = []\n",
        "for i in test_x.values:\n",
        "    predicted.append(lvq3_test(i, W))\n",
        "print_metrics(test_y, predicted)"
      ],
      "execution_count": null,
      "outputs": [
        {
          "output_type": "stream",
          "name": "stdout",
          "text": [
            "Precision Score: 1.0\n",
            "Recall Score: 1.0\n",
            "Accuracy Score: 1.0\n",
            "F1 Score: 1.0\n"
          ]
        }
      ]
    },
    {
      "cell_type": "code",
      "metadata": {
        "colab": {
          "base_uri": "https://localhost:8080/"
        },
        "id": "J7EMdVB2LXUO",
        "outputId": "aca95280-01a1-42d1-baed-c554db115326"
      },
      "source": [
        "#Classification using K-NN\n",
        "knn = KNeighborsClassifier(n_neighbors=3)\n",
        "knn.fit(train_x, train_y)\n",
        "predicted = knn.predict(test_x) \n",
        "print_metrics(test_y, predicted)"
      ],
      "execution_count": null,
      "outputs": [
        {
          "output_type": "stream",
          "name": "stdout",
          "text": [
            "Precision Score: 1.0\n",
            "Recall Score: 1.0\n",
            "Accuracy Score: 1.0\n",
            "F1 Score: 1.0\n"
          ]
        }
      ]
    },
    {
      "cell_type": "code",
      "metadata": {
        "colab": {
          "base_uri": "https://localhost:8080/"
        },
        "id": "0u_LfvSALcVx",
        "outputId": "627968c1-562b-4300-f9a1-c193966824f6"
      },
      "source": [
        "#Classification using Random Forest\n",
        "rfc = RandomForestClassifier(n_estimators=40)\n",
        "rfc.fit(train_x, train_y)\n",
        "predicted = rfc.predict(test_x)\n",
        "print_metrics(test_y, predicted)"
      ],
      "execution_count": null,
      "outputs": [
        {
          "output_type": "stream",
          "name": "stdout",
          "text": [
            "Precision Score: 1.0\n",
            "Recall Score: 1.0\n",
            "Accuracy Score: 1.0\n",
            "F1 Score: 1.0\n"
          ]
        }
      ]
    },
    {
      "cell_type": "code",
      "metadata": {
        "colab": {
          "base_uri": "https://localhost:8080/"
        },
        "id": "U7mUVi7TLgX0",
        "outputId": "ff935c2e-0b06-400a-c241-4f90aa706086"
      },
      "source": [
        "#Comparison using K-Fold\n",
        "def kfold_comparison(train_x, test_x, train_y, test_y):\n",
        "    lvq3_acc = []\n",
        "    rfc_acc = []\n",
        "    knn_acc = []\n",
        "    kf= KFold(n_splits=5, shuffle=False)\n",
        "    print(kf)  \n",
        "    i=1       \n",
        "    for train_index, test_index in kf.split(df):\n",
        "\n",
        "        x = train_x.append(test_x).reset_index(drop=True)\n",
        "        y = train_y.append(test_y).reset_index(drop=True)\n",
        "        train_x = x.iloc[train_index]\n",
        "        test_x = x.iloc[test_index]\n",
        "        train_y = y.loc[train_index]\n",
        "        test_y = y.loc[test_index]\n",
        "        W = lvq3_train(train_x, train_y, 0.3, 0.2, 100, 0.001, 0.3)\n",
        "        predicted = []\n",
        "        for h in test_x.values:\n",
        "            predicted.append(lvq3_test(h, W))\n",
        "        lvq3_acc.append(metrics.accuracy_score(test_y, predicted))\n",
        "        \n",
        "        rfc = RandomForestClassifier(n_estimators=100)\n",
        "        rfc.fit(train_x, train_y)\n",
        "        predicted = rfc.predict(test_x)\n",
        "        rfc_acc.append(metrics.accuracy_score(test_y, predicted))\n",
        "\n",
        "        knn = KNeighborsClassifier(n_neighbors=3)\n",
        "        knn.fit(train_x, train_y)\n",
        "        predicted = knn.predict(test_x) # 0:Overcast, 2:Mild\n",
        "        knn_acc.append(metrics.accuracy_score(test_y, predicted))\n",
        "        i+=1\n",
        "    \n",
        "    return lvq3_acc, rfc_acc, knn_acc\n",
        "\n",
        "lvq3_acc, rfc_acc, knn_acc = kfold_comparison(train_x, test_x, train_y, test_y)"
      ],
      "execution_count": null,
      "outputs": [
        {
          "output_type": "stream",
          "name": "stdout",
          "text": [
            "KFold(n_splits=5, random_state=None, shuffle=False)\n"
          ]
        },
        {
          "output_type": "stream",
          "name": "stderr",
          "text": [
            "/usr/local/lib/python3.7/dist-packages/ipykernel_launcher.py:7: VisibleDeprecationWarning: Creating an ndarray from ragged nested sequences (which is a list-or-tuple of lists-or-tuples-or ndarrays with different lengths or shapes) is deprecated. If you meant to do this, you must specify 'dtype=object' when creating the ndarray\n",
            "  import sys\n",
            "/usr/local/lib/python3.7/dist-packages/ipykernel_launcher.py:7: VisibleDeprecationWarning: Creating an ndarray from ragged nested sequences (which is a list-or-tuple of lists-or-tuples-or ndarrays with different lengths or shapes) is deprecated. If you meant to do this, you must specify 'dtype=object' when creating the ndarray\n",
            "  import sys\n",
            "/usr/local/lib/python3.7/dist-packages/ipykernel_launcher.py:7: VisibleDeprecationWarning: Creating an ndarray from ragged nested sequences (which is a list-or-tuple of lists-or-tuples-or ndarrays with different lengths or shapes) is deprecated. If you meant to do this, you must specify 'dtype=object' when creating the ndarray\n",
            "  import sys\n",
            "/usr/local/lib/python3.7/dist-packages/ipykernel_launcher.py:7: VisibleDeprecationWarning: Creating an ndarray from ragged nested sequences (which is a list-or-tuple of lists-or-tuples-or ndarrays with different lengths or shapes) is deprecated. If you meant to do this, you must specify 'dtype=object' when creating the ndarray\n",
            "  import sys\n",
            "/usr/local/lib/python3.7/dist-packages/ipykernel_launcher.py:7: VisibleDeprecationWarning: Creating an ndarray from ragged nested sequences (which is a list-or-tuple of lists-or-tuples-or ndarrays with different lengths or shapes) is deprecated. If you meant to do this, you must specify 'dtype=object' when creating the ndarray\n",
            "  import sys\n"
          ]
        }
      ]
    },
    {
      "cell_type": "code",
      "metadata": {
        "colab": {
          "base_uri": "https://localhost:8080/",
          "height": 301
        },
        "id": "hZVGBYeeLlee",
        "outputId": "a9a64ba4-f49f-4b83-99e1-d1c3b66499ba"
      },
      "source": [
        "#Show plot of comparisons\n",
        "N = 5\n",
        "\n",
        "ind = np.arange(N) \n",
        "width = 0.18\n",
        "plt.bar(ind - width, knn_acc, width, label='K-NN')\n",
        "plt.bar(ind, rfc_acc, width,\n",
        "    label='Random Forest')\n",
        "plt.bar(ind + width, lvq3_acc, width,\n",
        "    label='LVQ3')\n",
        "\n",
        "plt.ylabel('Accuracy')\n",
        "plt.xlabel('Fold')\n",
        "plt.title('K-Fold Cross Validation')\n",
        "\n",
        "plt.xticks(ind + width / 2, [i+1 for i in range(N)])\n",
        "plt.legend(loc='best')\n",
        "plt.show()"
      ],
      "execution_count": null,
      "outputs": [
        {
          "output_type": "display_data",
          "data": {
            "image/png": "[encoded data removed]",
            "text/plain": [
              "<Figure size 432x288 with 1 Axes>"
            ]
          },
          "metadata": {}
        }
      ]
    },
    {
      "cell_type": "code",
      "metadata": {
        "id": "fkxTuS8uLt0U"
      },
      "source": [],
      "execution_count": null,
      "outputs": []
    }
  ]
}